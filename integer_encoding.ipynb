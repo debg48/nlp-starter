{
  "nbformat": 4,
  "nbformat_minor": 0,
  "metadata": {
    "colab": {
      "provenance": [],
      "authorship_tag": "ABX9TyN0nxW0sQLLWQI9i/UOX5HN",
      "include_colab_link": true
    },
    "kernelspec": {
      "name": "python3",
      "display_name": "Python 3"
    },
    "language_info": {
      "name": "python"
    }
  },
  "cells": [
    {
      "cell_type": "markdown",
      "metadata": {
        "id": "view-in-github",
        "colab_type": "text"
      },
      "source": [
        "<a href=\"https://colab.research.google.com/github/debg48/nlp-starter/blob/main/integer_encoding.ipynb\" target=\"_parent\"><img src=\"https://colab.research.google.com/assets/colab-badge.svg\" alt=\"Open In Colab\"/></a>"
      ]
    },
    {
      "cell_type": "markdown",
      "source": [
        "# Integer Encoding"
      ],
      "metadata": {
        "id": "HD8LTbPSnnuz"
      }
    },
    {
      "cell_type": "code",
      "execution_count": 1,
      "metadata": {
        "id": "Kjgrqyw-i1aL"
      },
      "outputs": [],
      "source": [
        "import numpy as np"
      ]
    },
    {
      "cell_type": "code",
      "source": [
        "docs =['hi there',\n",
        "       'Yesterday was a bright day',\n",
        "       \"It is raining today\",\n",
        "       'Husky is a breed of dog worth adopting in cold places',\n",
        "       'Skills and Experience is all that matters',\n",
        "       'Harry Potter and the Goblet of Fire',\n",
        "       \"Good morning\",\n",
        "       'Our next batch of candidates goes live soon',\n",
        "       'Thank you and all the best']"
      ],
      "metadata": {
        "id": "d-8bHgGmjuDE"
      },
      "execution_count": 3,
      "outputs": []
    },
    {
      "cell_type": "code",
      "source": [
        "from keras.preprocessing.text import Tokenizer\n",
        "tokenizer= Tokenizer(oov_token='debg')"
      ],
      "metadata": {
        "id": "dFZrkKbDkBEr"
      },
      "execution_count": 5,
      "outputs": []
    },
    {
      "cell_type": "code",
      "source": [
        "tokenizer.fit_on_texts(docs)"
      ],
      "metadata": {
        "id": "IH0WL86xmF8L"
      },
      "execution_count": 6,
      "outputs": []
    },
    {
      "cell_type": "code",
      "source": [
        "tokenizer.word_index"
      ],
      "metadata": {
        "colab": {
          "base_uri": "https://localhost:8080/"
        },
        "id": "d122lS_DmVXL",
        "outputId": "3d6d5ead-db85-42ab-fd52-b856456a7677"
      },
      "execution_count": 7,
      "outputs": [
        {
          "output_type": "execute_result",
          "data": {
            "text/plain": [
              "{'debg': 1,\n",
              " 'is': 2,\n",
              " 'of': 3,\n",
              " 'and': 4,\n",
              " 'a': 5,\n",
              " 'all': 6,\n",
              " 'the': 7,\n",
              " 'hi': 8,\n",
              " 'there': 9,\n",
              " 'yesterday': 10,\n",
              " 'was': 11,\n",
              " 'bright': 12,\n",
              " 'day': 13,\n",
              " 'it': 14,\n",
              " 'raining': 15,\n",
              " 'today': 16,\n",
              " 'husky': 17,\n",
              " 'breed': 18,\n",
              " 'dog': 19,\n",
              " 'worth': 20,\n",
              " 'adopting': 21,\n",
              " 'in': 22,\n",
              " 'cold': 23,\n",
              " 'places': 24,\n",
              " 'skills': 25,\n",
              " 'experience': 26,\n",
              " 'that': 27,\n",
              " 'matters': 28,\n",
              " 'harry': 29,\n",
              " 'potter': 30,\n",
              " 'goblet': 31,\n",
              " 'fire': 32,\n",
              " 'good': 33,\n",
              " 'morning': 34,\n",
              " 'our': 35,\n",
              " 'next': 36,\n",
              " 'batch': 37,\n",
              " 'candidates': 38,\n",
              " 'goes': 39,\n",
              " 'live': 40,\n",
              " 'soon': 41,\n",
              " 'thank': 42,\n",
              " 'you': 43,\n",
              " 'best': 44}"
            ]
          },
          "metadata": {},
          "execution_count": 7
        }
      ]
    },
    {
      "cell_type": "code",
      "source": [
        "tokenizer.word_counts"
      ],
      "metadata": {
        "colab": {
          "base_uri": "https://localhost:8080/"
        },
        "id": "ctbNx26MmZMd",
        "outputId": "e945dad4-0627-4f44-9564-6501a83b11bd"
      },
      "execution_count": 8,
      "outputs": [
        {
          "output_type": "execute_result",
          "data": {
            "text/plain": [
              "OrderedDict([('hi', 1),\n",
              "             ('there', 1),\n",
              "             ('yesterday', 1),\n",
              "             ('was', 1),\n",
              "             ('a', 2),\n",
              "             ('bright', 1),\n",
              "             ('day', 1),\n",
              "             ('it', 1),\n",
              "             ('is', 3),\n",
              "             ('raining', 1),\n",
              "             ('today', 1),\n",
              "             ('husky', 1),\n",
              "             ('breed', 1),\n",
              "             ('of', 3),\n",
              "             ('dog', 1),\n",
              "             ('worth', 1),\n",
              "             ('adopting', 1),\n",
              "             ('in', 1),\n",
              "             ('cold', 1),\n",
              "             ('places', 1),\n",
              "             ('skills', 1),\n",
              "             ('and', 3),\n",
              "             ('experience', 1),\n",
              "             ('all', 2),\n",
              "             ('that', 1),\n",
              "             ('matters', 1),\n",
              "             ('harry', 1),\n",
              "             ('potter', 1),\n",
              "             ('the', 2),\n",
              "             ('goblet', 1),\n",
              "             ('fire', 1),\n",
              "             ('good', 1),\n",
              "             ('morning', 1),\n",
              "             ('our', 1),\n",
              "             ('next', 1),\n",
              "             ('batch', 1),\n",
              "             ('candidates', 1),\n",
              "             ('goes', 1),\n",
              "             ('live', 1),\n",
              "             ('soon', 1),\n",
              "             ('thank', 1),\n",
              "             ('you', 1),\n",
              "             ('best', 1)])"
            ]
          },
          "metadata": {},
          "execution_count": 8
        }
      ]
    },
    {
      "cell_type": "code",
      "source": [
        "tokenizer.document_count"
      ],
      "metadata": {
        "colab": {
          "base_uri": "https://localhost:8080/"
        },
        "id": "xieGcAu_nX69",
        "outputId": "a5a003ad-96e9-445f-89df-d4ae2937ac19"
      },
      "execution_count": 9,
      "outputs": [
        {
          "output_type": "execute_result",
          "data": {
            "text/plain": [
              "9"
            ]
          },
          "metadata": {},
          "execution_count": 9
        }
      ]
    },
    {
      "cell_type": "code",
      "source": [
        "sequences=tokenizer.texts_to_sequences(docs)\n",
        "sequences"
      ],
      "metadata": {
        "colab": {
          "base_uri": "https://localhost:8080/"
        },
        "id": "-yh9mMMGn1Ls",
        "outputId": "920af654-f3d3-409e-b00d-ef481b41e6a0"
      },
      "execution_count": 13,
      "outputs": [
        {
          "output_type": "execute_result",
          "data": {
            "text/plain": [
              "[[8, 9],\n",
              " [10, 11, 5, 12, 13],\n",
              " [14, 2, 15, 16],\n",
              " [17, 2, 5, 18, 3, 19, 20, 21, 22, 23, 24],\n",
              " [25, 4, 26, 2, 6, 27, 28],\n",
              " [29, 30, 4, 7, 31, 3, 32],\n",
              " [33, 34],\n",
              " [35, 36, 37, 3, 38, 39, 40, 41],\n",
              " [42, 43, 4, 6, 7, 44]]"
            ]
          },
          "metadata": {},
          "execution_count": 13
        }
      ]
    },
    {
      "cell_type": "markdown",
      "source": [
        "padding"
      ],
      "metadata": {
        "id": "FsEsPp2QpBpP"
      }
    },
    {
      "cell_type": "code",
      "source": [
        "from keras.utils import pad_sequences"
      ],
      "metadata": {
        "id": "R-PlLjfLoQt4"
      },
      "execution_count": 14,
      "outputs": []
    },
    {
      "cell_type": "code",
      "source": [
        "sequences = pad_sequences(sequences,padding='post')\n",
        "sequences"
      ],
      "metadata": {
        "colab": {
          "base_uri": "https://localhost:8080/"
        },
        "id": "fdtP2PwUpOYK",
        "outputId": "6fc06437-1f6f-43e2-a334-6a13a73f985a"
      },
      "execution_count": 15,
      "outputs": [
        {
          "output_type": "execute_result",
          "data": {
            "text/plain": [
              "array([[ 8,  9,  0,  0,  0,  0,  0,  0,  0,  0,  0],\n",
              "       [10, 11,  5, 12, 13,  0,  0,  0,  0,  0,  0],\n",
              "       [14,  2, 15, 16,  0,  0,  0,  0,  0,  0,  0],\n",
              "       [17,  2,  5, 18,  3, 19, 20, 21, 22, 23, 24],\n",
              "       [25,  4, 26,  2,  6, 27, 28,  0,  0,  0,  0],\n",
              "       [29, 30,  4,  7, 31,  3, 32,  0,  0,  0,  0],\n",
              "       [33, 34,  0,  0,  0,  0,  0,  0,  0,  0,  0],\n",
              "       [35, 36, 37,  3, 38, 39, 40, 41,  0,  0,  0],\n",
              "       [42, 43,  4,  6,  7, 44,  0,  0,  0,  0,  0]], dtype=int32)"
            ]
          },
          "metadata": {},
          "execution_count": 15
        }
      ]
    }
  ]
}