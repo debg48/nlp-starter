{
  "nbformat": 4,
  "nbformat_minor": 0,
  "metadata": {
    "colab": {
      "provenance": [],
      "authorship_tag": "ABX9TyP9C728F++zKxR9beHtA1j8",
      "include_colab_link": true
    },
    "kernelspec": {
      "name": "python3",
      "display_name": "Python 3"
    },
    "language_info": {
      "name": "python"
    }
  },
  "cells": [
    {
      "cell_type": "markdown",
      "metadata": {
        "id": "view-in-github",
        "colab_type": "text"
      },
      "source": [
        "<a href=\"https://colab.research.google.com/github/debg48/nlp-starter/blob/main/encoding.ipynb\" target=\"_parent\"><img src=\"https://colab.research.google.com/assets/colab-badge.svg\" alt=\"Open In Colab\"/></a>"
      ]
    },
    {
      "cell_type": "code",
      "source": [
        "docs =['hi there',\n",
        "       'Yesterday was a bright day',\n",
        "       \"It is raining today\",\n",
        "       'Husky is a breed of dog worth adopting in cold places',\n",
        "       'Skills and Experience is all that matters',\n",
        "       'Harry Potter and the Goblet of Fire',\n",
        "       \"Good morning\",\n",
        "       'Our next batch of candidates goes live soon',\n",
        "       'Thank you and all the best']"
      ],
      "metadata": {
        "id": "d-8bHgGmjuDE"
      },
      "execution_count": 1,
      "outputs": []
    },
    {
      "cell_type": "code",
      "source": [
        "from keras.preprocessing.text import Tokenizer\n",
        "tokenizer= Tokenizer(oov_token='debg')"
      ],
      "metadata": {
        "id": "dFZrkKbDkBEr"
      },
      "execution_count": 2,
      "outputs": []
    },
    {
      "cell_type": "code",
      "source": [
        "tokenizer.fit_on_texts(docs)"
      ],
      "metadata": {
        "id": "IH0WL86xmF8L"
      },
      "execution_count": 3,
      "outputs": []
    },
    {
      "cell_type": "code",
      "source": [
        "len(tokenizer.word_index)"
      ],
      "metadata": {
        "colab": {
          "base_uri": "https://localhost:8080/"
        },
        "id": "xieGcAu_nX69",
        "outputId": "a8561349-6fcf-454a-8190-4487464a5e9a"
      },
      "execution_count": 7,
      "outputs": [
        {
          "output_type": "execute_result",
          "data": {
            "text/plain": [
              "44"
            ]
          },
          "metadata": {},
          "execution_count": 7
        }
      ]
    },
    {
      "cell_type": "code",
      "source": [
        "sequences=tokenizer.texts_to_sequences(docs)\n",
        "sequences"
      ],
      "metadata": {
        "colab": {
          "base_uri": "https://localhost:8080/"
        },
        "id": "-yh9mMMGn1Ls",
        "outputId": "e1630b21-b887-4b91-9930-735c18af5f3b"
      },
      "execution_count": 8,
      "outputs": [
        {
          "output_type": "execute_result",
          "data": {
            "text/plain": [
              "[[8, 9],\n",
              " [10, 11, 5, 12, 13],\n",
              " [14, 2, 15, 16],\n",
              " [17, 2, 5, 18, 3, 19, 20, 21, 22, 23, 24],\n",
              " [25, 4, 26, 2, 6, 27, 28],\n",
              " [29, 30, 4, 7, 31, 3, 32],\n",
              " [33, 34],\n",
              " [35, 36, 37, 3, 38, 39, 40, 41],\n",
              " [42, 43, 4, 6, 7, 44]]"
            ]
          },
          "metadata": {},
          "execution_count": 8
        }
      ]
    },
    {
      "cell_type": "code",
      "source": [
        "from keras.utils import pad_sequences"
      ],
      "metadata": {
        "id": "R-PlLjfLoQt4"
      },
      "execution_count": 9,
      "outputs": []
    },
    {
      "cell_type": "code",
      "source": [
        "sequences = pad_sequences(sequences,padding='post')\n",
        "sequences"
      ],
      "metadata": {
        "colab": {
          "base_uri": "https://localhost:8080/"
        },
        "id": "fdtP2PwUpOYK",
        "outputId": "18938a22-2ccf-47cf-ec82-353c7c5358f1"
      },
      "execution_count": 10,
      "outputs": [
        {
          "output_type": "execute_result",
          "data": {
            "text/plain": [
              "array([[ 8,  9,  0,  0,  0,  0,  0,  0,  0,  0,  0],\n",
              "       [10, 11,  5, 12, 13,  0,  0,  0,  0,  0,  0],\n",
              "       [14,  2, 15, 16,  0,  0,  0,  0,  0,  0,  0],\n",
              "       [17,  2,  5, 18,  3, 19, 20, 21, 22, 23, 24],\n",
              "       [25,  4, 26,  2,  6, 27, 28,  0,  0,  0,  0],\n",
              "       [29, 30,  4,  7, 31,  3, 32,  0,  0,  0,  0],\n",
              "       [33, 34,  0,  0,  0,  0,  0,  0,  0,  0,  0],\n",
              "       [35, 36, 37,  3, 38, 39, 40, 41,  0,  0,  0],\n",
              "       [42, 43,  4,  6,  7, 44,  0,  0,  0,  0,  0]], dtype=int32)"
            ]
          },
          "metadata": {},
          "execution_count": 10
        }
      ]
    },
    {
      "cell_type": "code",
      "source": [
        "from keras import Sequential\n",
        "from keras.layers import Embedding"
      ],
      "metadata": {
        "id": "ZEInIi2TpzPD"
      },
      "execution_count": 11,
      "outputs": []
    },
    {
      "cell_type": "code",
      "source": [
        "model = Sequential()\n",
        "model.add(Embedding(45,output_dim=2,input_length=11))\n",
        "model.summary()"
      ],
      "metadata": {
        "colab": {
          "base_uri": "https://localhost:8080/"
        },
        "id": "jxSGxlSjps2S",
        "outputId": "f95d6c89-fd46-431c-d408-97e245dd6646"
      },
      "execution_count": 17,
      "outputs": [
        {
          "output_type": "stream",
          "name": "stdout",
          "text": [
            "Model: \"sequential_1\"\n",
            "_________________________________________________________________\n",
            " Layer (type)                Output Shape              Param #   \n",
            "=================================================================\n",
            " embedding_1 (Embedding)     (None, 11, 2)             90        \n",
            "                                                                 \n",
            "=================================================================\n",
            "Total params: 90\n",
            "Trainable params: 90\n",
            "Non-trainable params: 0\n",
            "_________________________________________________________________\n"
          ]
        }
      ]
    },
    {
      "cell_type": "code",
      "source": [
        "model.compile('adam','accuracy')"
      ],
      "metadata": {
        "id": "R68ghDfNmSAC"
      },
      "execution_count": 18,
      "outputs": []
    },
    {
      "cell_type": "code",
      "source": [
        "pred = model.predict(sequences)\n",
        "print(pred)"
      ],
      "metadata": {
        "colab": {
          "base_uri": "https://localhost:8080/"
        },
        "id": "ooYWO2NwoKoQ",
        "outputId": "46cbca9c-50b6-4aeb-e053-3c28fc8eded3"
      },
      "execution_count": 19,
      "outputs": [
        {
          "output_type": "stream",
          "name": "stdout",
          "text": [
            "1/1 [==============================] - 0s 54ms/step\n",
            "[[[-0.03446581 -0.0365595 ]\n",
            "  [ 0.04090761 -0.01155152]\n",
            "  [-0.04022679 -0.03071114]\n",
            "  [-0.04022679 -0.03071114]\n",
            "  [-0.04022679 -0.03071114]\n",
            "  [-0.04022679 -0.03071114]\n",
            "  [-0.04022679 -0.03071114]\n",
            "  [-0.04022679 -0.03071114]\n",
            "  [-0.04022679 -0.03071114]\n",
            "  [-0.04022679 -0.03071114]\n",
            "  [-0.04022679 -0.03071114]]\n",
            "\n",
            " [[-0.03255858  0.01480723]\n",
            "  [ 0.0157801  -0.04240078]\n",
            "  [ 0.01249318 -0.03398442]\n",
            "  [ 0.00681109 -0.03144543]\n",
            "  [ 0.02349938 -0.0022065 ]\n",
            "  [-0.04022679 -0.03071114]\n",
            "  [-0.04022679 -0.03071114]\n",
            "  [-0.04022679 -0.03071114]\n",
            "  [-0.04022679 -0.03071114]\n",
            "  [-0.04022679 -0.03071114]\n",
            "  [-0.04022679 -0.03071114]]\n",
            "\n",
            " [[ 0.02386117  0.04209154]\n",
            "  [ 0.01099002 -0.02443694]\n",
            "  [ 0.02508957  0.00202749]\n",
            "  [-0.0069561   0.03384754]\n",
            "  [-0.04022679 -0.03071114]\n",
            "  [-0.04022679 -0.03071114]\n",
            "  [-0.04022679 -0.03071114]\n",
            "  [-0.04022679 -0.03071114]\n",
            "  [-0.04022679 -0.03071114]\n",
            "  [-0.04022679 -0.03071114]\n",
            "  [-0.04022679 -0.03071114]]\n",
            "\n",
            " [[-0.03417762  0.03337827]\n",
            "  [ 0.01099002 -0.02443694]\n",
            "  [ 0.01249318 -0.03398442]\n",
            "  [ 0.04915582  0.01985308]\n",
            "  [-0.01902123 -0.02618412]\n",
            "  [-0.02529492 -0.02245488]\n",
            "  [-0.0018648   0.00475904]\n",
            "  [-0.03821338  0.01235716]\n",
            "  [ 0.00525622  0.03034978]\n",
            "  [-0.03938097 -0.01753111]\n",
            "  [-0.03874232  0.03325612]]\n",
            "\n",
            " [[-0.02644461 -0.03414093]\n",
            "  [-0.03881502  0.03900441]\n",
            "  [ 0.03034507  0.04607108]\n",
            "  [ 0.01099002 -0.02443694]\n",
            "  [ 0.01391168 -0.04500955]\n",
            "  [ 0.02827772 -0.04272412]\n",
            "  [ 0.01335004  0.04967116]\n",
            "  [-0.04022679 -0.03071114]\n",
            "  [-0.04022679 -0.03071114]\n",
            "  [-0.04022679 -0.03071114]\n",
            "  [-0.04022679 -0.03071114]]\n",
            "\n",
            " [[-0.00619087  0.04670933]\n",
            "  [-0.02916684 -0.01798075]\n",
            "  [-0.03881502  0.03900441]\n",
            "  [ 0.0182104  -0.01726422]\n",
            "  [-0.04994214 -0.0205536 ]\n",
            "  [-0.01902123 -0.02618412]\n",
            "  [ 0.01085982  0.04517117]\n",
            "  [-0.04022679 -0.03071114]\n",
            "  [-0.04022679 -0.03071114]\n",
            "  [-0.04022679 -0.03071114]\n",
            "  [-0.04022679 -0.03071114]]\n",
            "\n",
            " [[ 0.00912887 -0.01118688]\n",
            "  [ 0.02477571  0.00572745]\n",
            "  [-0.04022679 -0.03071114]\n",
            "  [-0.04022679 -0.03071114]\n",
            "  [-0.04022679 -0.03071114]\n",
            "  [-0.04022679 -0.03071114]\n",
            "  [-0.04022679 -0.03071114]\n",
            "  [-0.04022679 -0.03071114]\n",
            "  [-0.04022679 -0.03071114]\n",
            "  [-0.04022679 -0.03071114]\n",
            "  [-0.04022679 -0.03071114]]\n",
            "\n",
            " [[ 0.0252266  -0.00813478]\n",
            "  [-0.04318644 -0.04663891]\n",
            "  [ 0.03435833 -0.02234194]\n",
            "  [-0.01902123 -0.02618412]\n",
            "  [-0.02656752 -0.02586312]\n",
            "  [ 0.04653845 -0.02605557]\n",
            "  [-0.0098974   0.00811771]\n",
            "  [-0.00713438 -0.01036205]\n",
            "  [-0.04022679 -0.03071114]\n",
            "  [-0.04022679 -0.03071114]\n",
            "  [-0.04022679 -0.03071114]]\n",
            "\n",
            " [[-0.03146558  0.00043868]\n",
            "  [ 0.03532721  0.00506636]\n",
            "  [-0.03881502  0.03900441]\n",
            "  [ 0.01391168 -0.04500955]\n",
            "  [ 0.0182104  -0.01726422]\n",
            "  [-0.03938446 -0.00328362]\n",
            "  [-0.04022679 -0.03071114]\n",
            "  [-0.04022679 -0.03071114]\n",
            "  [-0.04022679 -0.03071114]\n",
            "  [-0.04022679 -0.03071114]\n",
            "  [-0.04022679 -0.03071114]]]\n"
          ]
        }
      ]
    },
    {
      "cell_type": "code",
      "source": [],
      "metadata": {
        "id": "qBbcztCJsnoz"
      },
      "execution_count": null,
      "outputs": []
    }
  ]
}